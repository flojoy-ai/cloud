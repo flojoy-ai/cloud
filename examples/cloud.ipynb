{
 "cells": [
  {
   "cell_type": "code",
   "execution_count": null,
   "metadata": {},
   "outputs": [],
   "source": [
    "from flojoy.cloud import FlojoyCloud, Boolean"
   ]
  },
  {
   "cell_type": "code",
   "execution_count": null,
   "metadata": {},
   "outputs": [],
   "source": [
    "client = FlojoyCloud(workspace_secret=\"\") # Workspace secret is required to access the workspace"
   ]
  },
  {
   "cell_type": "code",
   "execution_count": null,
   "metadata": {},
   "outputs": [],
   "source": [
    "project_id = \"project_ajih1voth1gg4m72bhcnae7h\"\n",
    "test_id = \"test_tldvsowc9cq4hyngxajwf4vq\"\n",
    "hardware_id = \"hardware_qatz1aashlloeltxqr7k2vqb\""
   ]
  },
  {
   "cell_type": "code",
   "execution_count": null,
   "metadata": {},
   "outputs": [],
   "source": [
    "project = client.get_project_by_id(project_id)\n",
    "print(project.name)"
   ]
  },
  {
   "cell_type": "code",
   "execution_count": null,
   "metadata": {},
   "outputs": [],
   "source": [
    "hardware = client.get_hardware_by_id(hardware_id)\n",
    "print(hardware.name)"
   ]
  },
  {
   "cell_type": "code",
   "execution_count": null,
   "metadata": {},
   "outputs": [],
   "source": [
    "test = client.get_test_by_id(test_id)\n",
    "print(test.name)"
   ]
  },
  {
   "cell_type": "code",
   "execution_count": null,
   "metadata": {},
   "outputs": [],
   "source": [
    "measurements = client.get_all_measurements_by_test_id(test_id)\n",
    "for m in measurements:\n",
    "    print(m.data, m.hardware.name)"
   ]
  },
  {
   "cell_type": "code",
   "execution_count": null,
   "metadata": {},
   "outputs": [],
   "source": [
    "status = Boolean(passed=False)\n",
    "client.upload(status, test_id, hardware_id)"
   ]
  },
  {
   "cell_type": "code",
   "execution_count": null,
   "metadata": {},
   "outputs": [],
   "source": [
    "measurements = client.get_all_measurements_by_test_id(test_id)\n",
    "for m in measurements:\n",
    "    print(m.data, m.hardware.name)"
   ]
  }
 ],
 "metadata": {
  "kernelspec": {
   "display_name": "flojoy-studio",
   "language": "python",
   "name": "python3"
  },
  "language_info": {
   "codemirror_mode": {
    "name": "ipython",
    "version": 3
   },
   "file_extension": ".py",
   "mimetype": "text/x-python",
   "name": "python",
   "nbconvert_exporter": "python",
   "pygments_lexer": "ipython3",
   "version": "3.11.7"
  }
 },
 "nbformat": 4,
 "nbformat_minor": 2
}
