{
 "cells": [
  {
   "cell_type": "markdown",
   "metadata": {},
   "source": [
    "# Flojoy Cloud Python Client Example"
   ]
  },
  {
   "cell_type": "markdown",
   "metadata": {},
   "source": [
    "To install the Flojoy Cloud Python client, simply do `pip install flojoy_cloud`."
   ]
  },
  {
   "cell_type": "code",
   "execution_count": null,
   "metadata": {},
   "outputs": [],
   "source": [
    "from flojoy_cloud import FlojoyCloud # Import the FlojoyCloud client"
   ]
  },
  {
   "cell_type": "code",
   "execution_count": null,
   "metadata": {},
   "outputs": [],
   "source": [
    "from dotenv import load_dotenv\n",
    "load_dotenv(\"./.env\") # load environment variables from .env file"
   ]
  },
  {
   "cell_type": "code",
   "execution_count": null,
   "metadata": {},
   "outputs": [],
   "source": [
    "import os\n",
    "\n",
    "# Initialize the Python client\n",
    "client = FlojoyCloud(workspace_secret=os.getenv(\"FLOJOY_CLOUD_WORKSPACE_SECRET\"))\n",
    "\n",
    "workspace_id = \"workspace_k3w31luvuw85hnq5tx1nms70\""
   ]
  },
  {
   "cell_type": "markdown",
   "metadata": {},
   "source": [
    "## Hardware Model\n",
    "\n",
    "Every hardware device must have a hardware model. Therefore, before registering\n",
    "your device to Flojoy Cloud, you must first create the corresponding model.\n",
    "\n",
    "In this example, we are creating a \"device model\", which is meant for a \n",
    "standalone device that is not composed of anything else.\n",
    "\n",
    "We also have support for a \"system model\", which is composed of multiple device \n",
    "models together, forming a larger system."
   ]
  },
  {
   "cell_type": "code",
   "execution_count": null,
   "metadata": {},
   "outputs": [],
   "source": [
    "device_model = client.create_device_model(\"HL9999\", workspace_id)\n",
    "print(device_model.name)"
   ]
  },
  {
   "cell_type": "markdown",
   "metadata": {},
   "source": [
    "## Project\n",
    "\n",
    "Nice! We just created a model. Now let's create a project to host everything we\n",
    "do around this model.\n",
    "\n",
    "A project contains a bunch of hardware instances of this model, and all \n",
    "the tests for this device model."
   ]
  },
  {
   "cell_type": "code",
   "execution_count": null,
   "metadata": {},
   "outputs": [],
   "source": [
    "project = client.create_project(\"HL9999 Testing\", device_model.id, workspace_id)\n",
    "print(project.name)"
   ]
  },
  {
   "cell_type": "markdown",
   "metadata": {},
   "source": [
    "## Hardware Device\n",
    "\n",
    "Let's register a hardware device instance to this project, so we can upload\n",
    "some data for this particular device."
   ]
  },
  {
   "cell_type": "code",
   "execution_count": null,
   "metadata": {},
   "outputs": [],
   "source": [
    "hardware_device = client.create_device(workspace_id, \"SN0001\", device_model.id, project.id)\n",
    "print(hardware_device.name)"
   ]
  },
  {
   "cell_type": "markdown",
   "metadata": {},
   "source": [
    "## Test\n",
    "\n",
    "This is the last setup step before we can start uploading data. \n",
    "\n",
    "We need to create a test such that we know which test is this data for.\n",
    "It is a convenient way to group data into their respective test."
   ]
  },
  {
   "cell_type": "code",
   "execution_count": null,
   "metadata": {},
   "outputs": [],
   "source": [
    "# Create a test in the project we just created. \n",
    "test = client.create_test(\"Pass/Fail Test\", project.id, \"boolean\")\n",
    "print(test.name)\n",
    "\n",
    "# This is the last setup step before we can upload some data!"
   ]
  },
  {
   "cell_type": "markdown",
   "metadata": {},
   "source": [
    "## Data Uploading\n",
    "\n",
    "As a quick example, let's say this test failed and we want to upload the status\n",
    "data to Flojoy Cloud, we can pass a boolean to `upload`.\n"
   ]
  },
  {
   "cell_type": "code",
   "execution_count": null,
   "metadata": {},
   "outputs": [],
   "source": [
    "status = False\n",
    "client.upload(status, test.id, hardware_device.id, passed=True)"
   ]
  },
  {
   "cell_type": "code",
   "execution_count": null,
   "metadata": {},
   "outputs": [],
   "source": [
    "measurements = client.get_all_measurements_by_test_id(test.id)\n",
    "for m in measurements:\n",
    "    print(m.data, m.hardware.name)"
   ]
  },
  {
   "cell_type": "markdown",
   "metadata": {},
   "source": [
    "## Pulling Data Down\n",
    "\n",
    "With our Python client, it is very convenient to pull data down into a Jupyter\n",
    "notebook environment for example, to perform more data analysis."
   ]
  },
  {
   "cell_type": "code",
   "execution_count": null,
   "metadata": {},
   "outputs": [],
   "source": [
    "test_id = \"test_dgxczo42p6ewud9fv242ltx0\"\n",
    "measurements = client.get_all_measurements_by_test_id(test_id)"
   ]
  },
  {
   "cell_type": "markdown",
   "metadata": {},
   "source": []
  },
  {
   "cell_type": "code",
   "execution_count": null,
   "metadata": {},
   "outputs": [],
   "source": [
    "for m in measurements:\n",
    "    print(m)"
   ]
  },
  {
   "cell_type": "code",
   "execution_count": null,
   "metadata": {},
   "outputs": [],
   "source": [
    "import plotly.graph_objects as go"
   ]
  },
  {
   "cell_type": "code",
   "execution_count": null,
   "metadata": {},
   "outputs": [],
   "source": [
    "fig = go.Figure()\n",
    "\n",
    "for m in measurements:\n",
    "    fig.add_trace(go.Scatter(x=m.data[\"value\"][\"x\"], y=m.data[\"value\"][\"y\"], name=m.hardware.name))\n",
    "\n",
    "fig.show()"
   ]
  }
 ],
 "metadata": {
  "kernelspec": {
   "display_name": "flojoy-studio",
   "language": "python",
   "name": "python3"
  },
  "language_info": {
   "codemirror_mode": {
    "name": "ipython",
    "version": 3
   },
   "file_extension": ".py",
   "mimetype": "text/x-python",
   "name": "python",
   "nbconvert_exporter": "python",
   "pygments_lexer": "ipython3",
   "version": "3.11.7"
  }
 },
 "nbformat": 4,
 "nbformat_minor": 2
}
